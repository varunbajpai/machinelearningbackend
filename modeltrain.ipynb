{
 "cells": [
  {
   "cell_type": "code",
   "execution_count": 1,
   "metadata": {},
   "outputs": [
    {
     "name": "stderr",
     "output_type": "stream",
     "text": [
      "Using TensorFlow backend.\n"
     ]
    }
   ],
   "source": [
    "import numpy as np\n",
    "import pandas as pd\n",
    "import matplotlib.pyplot as plt\n",
    "from keras.models import Sequential\n",
    "from sklearn.preprocessing import StandardScaler\n",
    "from keras.layers import Dense\n",
    "from keras.layers import LSTM\n",
    "from pandas_datareader import data\n",
    "from keras.layers import Dropout\n",
    "import datetime"
   ]
  },
  {
   "cell_type": "code",
   "execution_count": 2,
   "metadata": {},
   "outputs": [],
   "source": [
    "stock_name = 'MSFT'                   #stock code for microsoft\n",
    "start_date = '01-01-1990'\n",
    "end_date = '{}-{}-{}'.format(datetime.datetime.now().year,datetime.datetime.now().month,datetime.datetime.now().day)\n",
    "data = data.DataReader(stock_name, 'yahoo', start_date, end_date)"
   ]
  },
  {
   "cell_type": "code",
   "execution_count": 3,
   "metadata": {},
   "outputs": [],
   "source": [
    "x_train = data.iloc[:len(data)-80,[0,1,2,3,4,5]].values\n",
    "x_test = data.iloc[len(data)-80:,[0,1,2,3,4,5]].values"
   ]
  },
  {
   "cell_type": "code",
   "execution_count": 4,
   "metadata": {},
   "outputs": [],
   "source": [
    "scaler_train = StandardScaler().fit(x_train)\n",
    "x_train = scaler_train.transform(x_train)"
   ]
  },
  {
   "cell_type": "code",
   "execution_count": 5,
   "metadata": {},
   "outputs": [],
   "source": [
    "X_train = []\n",
    "Y_train = []\n",
    "for i in range(80,len(x_train)):\n",
    "    X_train.append(x_train[i-80:i])\n",
    "    Y_train.append(x_train[i][0])\n",
    "Y_train = np.array(Y_train)\n",
    "X_train = np.array(X_train)"
   ]
  },
  {
   "cell_type": "code",
   "execution_count": 6,
   "metadata": {},
   "outputs": [
    {
     "name": "stdout",
     "output_type": "stream",
     "text": [
      "_________________________________________________________________\n",
      "Layer (type)                 Output Shape              Param #   \n",
      "=================================================================\n",
      "lstm_1 (LSTM)                (None, 80, 200)           165600    \n",
      "_________________________________________________________________\n",
      "dropout_1 (Dropout)          (None, 80, 200)           0         \n",
      "_________________________________________________________________\n",
      "lstm_2 (LSTM)                (None, 80, 100)           120400    \n",
      "_________________________________________________________________\n",
      "dropout_2 (Dropout)          (None, 80, 100)           0         \n",
      "_________________________________________________________________\n",
      "lstm_3 (LSTM)                (None, 80, 50)            30200     \n",
      "_________________________________________________________________\n",
      "dropout_3 (Dropout)          (None, 80, 50)            0         \n",
      "_________________________________________________________________\n",
      "lstm_4 (LSTM)                (None, 25)                7600      \n",
      "_________________________________________________________________\n",
      "dropout_4 (Dropout)          (None, 25)                0         \n",
      "_________________________________________________________________\n",
      "dense_1 (Dense)              (None, 1)                 26        \n",
      "=================================================================\n",
      "Total params: 323,826\n",
      "Trainable params: 323,826\n",
      "Non-trainable params: 0\n",
      "_________________________________________________________________\n",
      "Epoch 1/100\n",
      "7230/7230 [==============================] - 60s 8ms/step - loss: 0.0478\n",
      "Epoch 2/100\n",
      "7230/7230 [==============================] - 65s 9ms/step - loss: 0.0217\n",
      "Epoch 3/100\n",
      "7230/7230 [==============================] - 115s 16ms/step - loss: 0.0196\n",
      "Epoch 4/100\n",
      "7230/7230 [==============================] - 64s 9ms/step - loss: 0.0173\n",
      "Epoch 5/100\n",
      "7230/7230 [==============================] - 63s 9ms/step - loss: 0.0169\n",
      "Epoch 6/100\n",
      "7230/7230 [==============================] - 82s 11ms/step - loss: 0.0178\n",
      "Epoch 7/100\n",
      "7230/7230 [==============================] - 65s 9ms/step - loss: 0.0157\n",
      "Epoch 8/100\n",
      "7230/7230 [==============================] - 62s 9ms/step - loss: 0.0150\n",
      "Epoch 9/100\n",
      "7230/7230 [==============================] - 63s 9ms/step - loss: 0.0154\n",
      "Epoch 10/100\n",
      "7230/7230 [==============================] - 65s 9ms/step - loss: 0.0158\n",
      "Epoch 11/100\n",
      "7230/7230 [==============================] - 63s 9ms/step - loss: 0.0144\n",
      "Epoch 12/100\n",
      "7230/7230 [==============================] - 63s 9ms/step - loss: 0.0158\n",
      "Epoch 13/100\n",
      "7230/7230 [==============================] - 63s 9ms/step - loss: 0.0146\n",
      "Epoch 14/100\n",
      "7230/7230 [==============================] - 70s 10ms/step - loss: 0.0143\n",
      "Epoch 15/100\n",
      "7230/7230 [==============================] - 66s 9ms/step - loss: 0.0157\n",
      "Epoch 16/100\n",
      "7230/7230 [==============================] - 67s 9ms/step - loss: 0.0147\n",
      "Epoch 17/100\n",
      "7230/7230 [==============================] - 68s 9ms/step - loss: 0.0138\n",
      "Epoch 18/100\n",
      "7230/7230 [==============================] - 64s 9ms/step - loss: 0.0143\n",
      "Epoch 19/100\n",
      "7230/7230 [==============================] - 71s 10ms/step - loss: 0.0141\n",
      "Epoch 20/100\n",
      "7230/7230 [==============================] - 68s 9ms/step - loss: 0.0136\n",
      "Epoch 21/100\n",
      "7230/7230 [==============================] - 65s 9ms/step - loss: 0.0153\n",
      "Epoch 22/100\n",
      "7230/7230 [==============================] - 76s 11ms/step - loss: 0.0136\n",
      "Epoch 23/100\n",
      "7230/7230 [==============================] - 76s 11ms/step - loss: 0.0151\n",
      "Epoch 24/100\n",
      "7230/7230 [==============================] - 74s 10ms/step - loss: 0.0135\n",
      "Epoch 25/100\n",
      "7230/7230 [==============================] - 73s 10ms/step - loss: 0.0138\n",
      "Epoch 26/100\n",
      "7230/7230 [==============================] - 66s 9ms/step - loss: 0.0136\n",
      "Epoch 27/100\n",
      "7230/7230 [==============================] - 528s 73ms/step - loss: 0.0142\n",
      "Epoch 28/100\n",
      "7230/7230 [==============================] - 69s 9ms/step - loss: 0.0131\n",
      "Epoch 29/100\n",
      "7230/7230 [==============================] - 72s 10ms/step - loss: 0.0144\n",
      "Epoch 30/100\n",
      "7230/7230 [==============================] - 72s 10ms/step - loss: 0.0134\n",
      "Epoch 31/100\n",
      "7230/7230 [==============================] - 70s 10ms/step - loss: 0.0135\n",
      "Epoch 32/100\n",
      "7230/7230 [==============================] - 76s 11ms/step - loss: 0.0137\n",
      "Epoch 33/100\n",
      "7230/7230 [==============================] - 103s 14ms/step - loss: 0.0131\n",
      "Epoch 34/100\n",
      "7230/7230 [==============================] - 78s 11ms/step - loss: 0.0133\n",
      "Epoch 35/100\n",
      "7230/7230 [==============================] - 83s 12ms/step - loss: 0.0129\n",
      "Epoch 36/100\n",
      "7230/7230 [==============================] - 71s 10ms/step - loss: 0.0126\n",
      "Epoch 37/100\n",
      "7230/7230 [==============================] - 72s 10ms/step - loss: 0.0131\n",
      "Epoch 38/100\n",
      "7230/7230 [==============================] - 90s 12ms/step - loss: 0.0139\n",
      "Epoch 39/100\n",
      "7230/7230 [==============================] - 82s 11ms/step - loss: 0.0148\n",
      "Epoch 40/100\n",
      "7230/7230 [==============================] - 77s 11ms/step - loss: 0.0138\n",
      "Epoch 41/100\n",
      "7230/7230 [==============================] - 85s 12ms/step - loss: 0.0138\n",
      "Epoch 42/100\n",
      "7230/7230 [==============================] - 76s 11ms/step - loss: 0.0128\n",
      "Epoch 43/100\n",
      "7230/7230 [==============================] - 84s 12ms/step - loss: 0.0127\n",
      "Epoch 44/100\n",
      "7230/7230 [==============================] - 91s 13ms/step - loss: 0.0127\n",
      "Epoch 45/100\n",
      "7230/7230 [==============================] - 93s 13ms/step - loss: 0.0135\n",
      "Epoch 46/100\n",
      "7230/7230 [==============================] - 75s 10ms/step - loss: 0.0131\n",
      "Epoch 47/100\n",
      "7230/7230 [==============================] - 75s 10ms/step - loss: 0.0122\n",
      "Epoch 48/100\n",
      "7230/7230 [==============================] - 80s 11ms/step - loss: 0.0134\n",
      "Epoch 49/100\n",
      "7230/7230 [==============================] - 82s 11ms/step - loss: 0.0133\n",
      "Epoch 50/100\n",
      "7230/7230 [==============================] - 72s 10ms/step - loss: 0.0131\n",
      "Epoch 51/100\n",
      "7230/7230 [==============================] - 74s 10ms/step - loss: 0.0128\n",
      "Epoch 52/100\n",
      "7230/7230 [==============================] - 82s 11ms/step - loss: 0.0132\n",
      "Epoch 53/100\n",
      "7230/7230 [==============================] - 80s 11ms/step - loss: 0.0125\n",
      "Epoch 54/100\n",
      "7230/7230 [==============================] - 76s 11ms/step - loss: 0.0125\n",
      "Epoch 55/100\n",
      "7230/7230 [==============================] - 82s 11ms/step - loss: 0.0131\n",
      "Epoch 56/100\n",
      "7230/7230 [==============================] - 81s 11ms/step - loss: 0.0132\n",
      "Epoch 57/100\n",
      "7230/7230 [==============================] - 78s 11ms/step - loss: 0.0127\n",
      "Epoch 58/100\n",
      "7230/7230 [==============================] - 80s 11ms/step - loss: 0.0129\n",
      "Epoch 59/100\n",
      "7230/7230 [==============================] - 83s 12ms/step - loss: 0.0130\n",
      "Epoch 60/100\n",
      "7230/7230 [==============================] - 87s 12ms/step - loss: 0.0129\n",
      "Epoch 61/100\n",
      "7230/7230 [==============================] - 92s 13ms/step - loss: 0.0126\n",
      "Epoch 62/100\n",
      "7230/7230 [==============================] - 85s 12ms/step - loss: 0.0130\n",
      "Epoch 63/100\n",
      "7230/7230 [==============================] - 89s 12ms/step - loss: 0.0131\n",
      "Epoch 64/100\n",
      "7230/7230 [==============================] - 77s 11ms/step - loss: 0.0128\n",
      "Epoch 65/100\n",
      "7230/7230 [==============================] - 79s 11ms/step - loss: 0.0117\n",
      "Epoch 66/100\n",
      "7230/7230 [==============================] - 84s 12ms/step - loss: 0.0131\n",
      "Epoch 67/100\n",
      "7230/7230 [==============================] - 83s 12ms/step - loss: 0.0128\n",
      "Epoch 68/100\n",
      "7230/7230 [==============================] - 92s 13ms/step - loss: 0.0129\n",
      "Epoch 69/100\n",
      "7230/7230 [==============================] - 86s 12ms/step - loss: 0.0121\n",
      "Epoch 70/100\n",
      "7230/7230 [==============================] - 87s 12ms/step - loss: 0.0128\n",
      "Epoch 71/100\n",
      "7230/7230 [==============================] - 79s 11ms/step - loss: 0.0128\n",
      "Epoch 72/100\n",
      "7230/7230 [==============================] - 80s 11ms/step - loss: 0.0126\n",
      "Epoch 73/100\n",
      "7230/7230 [==============================] - 91s 13ms/step - loss: 0.0123\n",
      "Epoch 74/100\n",
      "7230/7230 [==============================] - 91s 13ms/step - loss: 0.0124\n",
      "Epoch 75/100\n",
      "7230/7230 [==============================] - 93s 13ms/step - loss: 0.0132\n",
      "Epoch 76/100\n",
      "7230/7230 [==============================] - 92s 13ms/step - loss: 0.0124\n",
      "Epoch 77/100\n"
     ]
    },
    {
     "name": "stdout",
     "output_type": "stream",
     "text": [
      "7230/7230 [==============================] - 89s 12ms/step - loss: 0.0121\n",
      "Epoch 78/100\n",
      "7230/7230 [==============================] - 81s 11ms/step - loss: 0.0130\n",
      "Epoch 79/100\n",
      "7230/7230 [==============================] - 88s 12ms/step - loss: 0.0118\n",
      "Epoch 80/100\n",
      "7230/7230 [==============================] - 77s 11ms/step - loss: 0.0147\n",
      "Epoch 81/100\n",
      "7230/7230 [==============================] - 77s 11ms/step - loss: 0.0141\n",
      "Epoch 82/100\n",
      "7230/7230 [==============================] - 75s 10ms/step - loss: 0.0118\n",
      "Epoch 83/100\n",
      "7230/7230 [==============================] - 87s 12ms/step - loss: 0.0130\n",
      "Epoch 84/100\n",
      "7230/7230 [==============================] - 82s 11ms/step - loss: 0.0131\n",
      "Epoch 85/100\n",
      "7230/7230 [==============================] - 81s 11ms/step - loss: 0.0125\n",
      "Epoch 86/100\n",
      "7230/7230 [==============================] - 79s 11ms/step - loss: 0.0129\n",
      "Epoch 87/100\n",
      "7230/7230 [==============================] - 80s 11ms/step - loss: 0.0131\n",
      "Epoch 88/100\n",
      "7230/7230 [==============================] - 73s 10ms/step - loss: 0.0119\n",
      "Epoch 89/100\n",
      "7230/7230 [==============================] - 76s 11ms/step - loss: 0.0129\n",
      "Epoch 90/100\n",
      "7230/7230 [==============================] - 68s 9ms/step - loss: 0.0116\n",
      "Epoch 91/100\n",
      "7230/7230 [==============================] - 72s 10ms/step - loss: 0.0123\n",
      "Epoch 92/100\n",
      "7230/7230 [==============================] - 89s 12ms/step - loss: 0.0119\n",
      "Epoch 93/100\n",
      "7230/7230 [==============================] - 74s 10ms/step - loss: 0.0130\n",
      "Epoch 94/100\n",
      "7230/7230 [==============================] - 81s 11ms/step - loss: 0.0117\n",
      "Epoch 95/100\n",
      "7230/7230 [==============================] - 84s 12ms/step - loss: 0.0123\n",
      "Epoch 96/100\n",
      "7230/7230 [==============================] - 77s 11ms/step - loss: 0.0123\n",
      "Epoch 97/100\n",
      "7230/7230 [==============================] - 73s 10ms/step - loss: 0.0116\n",
      "Epoch 98/100\n",
      "7230/7230 [==============================] - 75s 10ms/step - loss: 0.0136\n",
      "Epoch 99/100\n",
      "7230/7230 [==============================] - 79s 11ms/step - loss: 0.0127\n",
      "Epoch 100/100\n",
      "7230/7230 [==============================] - 68s 9ms/step - loss: 0.0120\n"
     ]
    },
    {
     "data": {
      "text/plain": [
       "<keras.callbacks.History at 0x14087b240>"
      ]
     },
     "execution_count": 6,
     "metadata": {},
     "output_type": "execute_result"
    }
   ],
   "source": [
    "model = Sequential()\n",
    "model.add(LSTM(units = 200, return_sequences = True, input_shape = (80, 6))) #timestep and features\n",
    "model.add(Dropout(0.2))\n",
    "model.add(LSTM(units = 100, return_sequences = True))\n",
    "model.add(Dropout(0.2))\n",
    "model.add(LSTM(units = 50, return_sequences = True))\n",
    "model.add(Dropout(0.2))\n",
    "model.add(LSTM(units = 25))\n",
    "model.add(Dropout(0.2))\n",
    "model.add(Dense(units = 1))\n",
    "model.compile(optimizer = 'adam', loss = 'mean_squared_error')\n",
    "model.summary()\n",
    "model.fit(X_train, Y_train, epochs = 100, batch_size = 32)"
   ]
  },
  {
   "cell_type": "code",
   "execution_count": 7,
   "metadata": {},
   "outputs": [],
   "source": [
    "X_test = []\n",
    "Y_test = []\n",
    "for i in range(len(x_train)-20,len(x_train)):\n",
    "    X_test.append(x_train[i-80:i])\n",
    "    Y_test.append(x_train[i][0])\n",
    "actual_price_scaled = np.array(Y_test)\n",
    "X_test = np.array(X_test)"
   ]
  },
  {
   "cell_type": "code",
   "execution_count": 8,
   "metadata": {},
   "outputs": [],
   "source": [
    "prediction = model.predict(X_test)"
   ]
  },
  {
   "cell_type": "code",
   "execution_count": 10,
   "metadata": {},
   "outputs": [],
   "source": [
    "predicted_stock_price = []\n",
    "for i in prediction:\n",
    "    predicted_stock_price.append(i[0])"
   ]
  },
  {
   "cell_type": "code",
   "execution_count": 12,
   "metadata": {},
   "outputs": [],
   "source": [
    "predicted_stock_price = np.array(predicted_stock_price)"
   ]
  },
  {
   "cell_type": "code",
   "execution_count": 13,
   "metadata": {},
   "outputs": [
    {
     "data": {
      "image/png": "[encoded data removed]",
      "text/plain": [
       "<Figure size 432x288 with 1 Axes>"
      ]
     },
     "metadata": {
      "needs_background": "light"
     },
     "output_type": "display_data"
    }
   ],
   "source": [
    "plt.plot(actual_price_scaled, color = 'red', label = 'Real Stock Price')\n",
    "plt.plot(predicted_stock_price, color = 'blue', label = 'Predicted Stock Price')\n",
    "plt.title('Stock Price Prediction')\n",
    "plt.xlabel('Time')\n",
    "plt.ylabel('Stock Price')\n",
    "plt.legend()\n",
    "plt.show()"
   ]
  },
  {
   "cell_type": "code",
   "execution_count": 15,
   "metadata": {},
   "outputs": [],
   "source": [
    "predicted_stock_price = list(predicted_stock_price)\n",
    "actual_price_scaled = list(actual_price_scaled)"
   ]
  },
  {
   "cell_type": "code",
   "execution_count": 17,
   "metadata": {},
   "outputs": [
    {
     "data": {
      "text/plain": [
       "[3.5584757,\n",
       " 3.5366771,\n",
       " 3.5101302,\n",
       " 3.4938364,\n",
       " 3.4963796,\n",
       " 3.5195873,\n",
       " 3.5482624,\n",
       " 3.5573146,\n",
       " 3.5324063,\n",
       " 3.495931,\n",
       " 3.455146,\n",
       " 3.4176269,\n",
       " 3.390187,\n",
       " 3.3533618,\n",
       " 3.3425603,\n",
       " 3.3348844,\n",
       " 3.3515933,\n",
       " 3.3744357,\n",
       " 3.3889456,\n",
       " 3.3739443]"
      ]
     },
     "execution_count": 17,
     "metadata": {},
     "output_type": "execute_result"
    }
   ],
   "source": [
    "predicted_stock_price"
   ]
  },
  {
   "cell_type": "code",
   "execution_count": 20,
   "metadata": {},
   "outputs": [
    {
     "name": "stdout",
     "output_type": "stream",
     "text": [
      "{'name': '-LdoaOp0TVgou15J3Wl3'}\n"
     ]
    }
   ],
   "source": [
    "from firebase import firebase  \n",
    "firebase = firebase.FirebaseApplication('https://stockpricingprediction.firebaseio.com/', None)  \n",
    "data =  { \n",
    "          stock_name:{\n",
    "          'predicted_stock_price':'{}'.format(predicted_stock_price),  \n",
    "          'actual_stock_price': '{}'.format(actual_price_scaled),\n",
    "          }  \n",
    "        }  \n",
    "result = firebase.post('/stocks/',data)  \n",
    "print(result) "
   ]
  },
  {
   "cell_type": "code",
   "execution_count": null,
   "metadata": {},
   "outputs": [],
   "source": []
  }
 ],
 "metadata": {
  "kernelspec": {
   "display_name": "Python 3",
   "language": "python",
   "name": "python3"
  },
  "language_info": {
   "codemirror_mode": {
    "name": "ipython",
    "version": 3
   },
   "file_extension": ".py",
   "mimetype": "text/x-python",
   "name": "python",
   "nbconvert_exporter": "python",
   "pygments_lexer": "ipython3",
   "version": "3.5.4"
  }
 },
 "nbformat": 4,
 "nbformat_minor": 2
}
