{
 "cells": [
  {
   "cell_type": "code",
   "execution_count": 2,
   "metadata": {},
   "outputs": [
    {
     "name": "stdout",
     "output_type": "stream",
     "text": [
      "{'name': '-Ldo7f7xZ23BeZ6MtaWZ'}\n"
     ]
    }
   ],
   "source": [
    "from firebase import firebase  \n",
    "firebase = firebase.FirebaseApplication('https://stockpricingprediction.firebaseio.com/', None)  \n",
    "data =  { \n",
    "          stockname:{\n",
    "          'predicted_stock_price': 'Vivek',  \n",
    "          'actual_stock_price': 1,}  \n",
    "          }  \n",
    "result = firebase.post('/python-sample-ed7f7/Students/',data)  \n",
    "print(result) "
   ]
  },
  {
   "cell_type": "code",
   "execution_count": 23,
   "metadata": {},
   "outputs": [
    {
     "name": "stdout",
     "output_type": "stream",
     "text": [
      "{'-LdoGWL8Aw2Qrwu5LYNl': {'google': {'actual_stock_price': [3, 4, 5, 6, 7], 'predicted_stock_price': [99, 2, 3, 4, 5]}}}\n"
     ]
    }
   ],
   "source": [
    "from firebase import firebase  \n",
    "firebase = firebase.FirebaseApplication('https://stockpricingprediction.firebaseio.com/', None)  \n",
    "result = firebase.get('/stocks/', '')  \n",
    "print(result) "
   ]
  },
  {
   "cell_type": "code",
   "execution_count": 22,
   "metadata": {},
   "outputs": [
    {
     "name": "stdout",
     "output_type": "stream",
     "text": [
      "stockname : -LdoGWL8Aw2Qrwu5LYNl\n"
     ]
    }
   ],
   "source": [
    "from firebase import firebase  \n",
    "firebase = firebase.FirebaseApplication('https://stockpricingprediction.firebaseio.com/', None)  \n",
    "data =  { \n",
    "        \n",
    "          'google' : {\n",
    "          'predicted_stock_price': [99,2,3,4,5],  \n",
    "          'actual_stock_price': [3,4,5,6,7],\n",
    "           }\n",
    "        }  \n",
    "result = firebase.post('/stocks/',data)  \n",
    "print('stockname',':',result['name']) "
   ]
  },
  {
   "cell_type": "code",
   "execution_count": 21,
   "metadata": {},
   "outputs": [
    {
     "name": "stdout",
     "output_type": "stream",
     "text": [
      "updated\n"
     ]
    }
   ],
   "source": [
    "from firebase import firebase  \n",
    "firebase = firebase.FirebaseApplication('https://stockpricingprediction.firebaseio.com/', None)  \n",
    "firebase.put('/stocks/-LdoBfHbd_jiT9bUojPx','predicted_stock_price',[79])   \n",
    "firebase.put('/stocks/-LdoBfHbd_jiT9bUojPx','actual_stock_price',[99])   \n",
    "print('updated')"
   ]
  },
  {
   "cell_type": "code",
   "execution_count": null,
   "metadata": {},
   "outputs": [],
   "source": []
  }
 ],
 "metadata": {
  "kernelspec": {
   "display_name": "Python 3",
   "language": "python",
   "name": "python3"
  },
  "language_info": {
   "codemirror_mode": {
    "name": "ipython",
    "version": 3
   },
   "file_extension": ".py",
   "mimetype": "text/x-python",
   "name": "python",
   "nbconvert_exporter": "python",
   "pygments_lexer": "ipython3",
   "version": "3.5.4"
  }
 },
 "nbformat": 4,
 "nbformat_minor": 2
}
